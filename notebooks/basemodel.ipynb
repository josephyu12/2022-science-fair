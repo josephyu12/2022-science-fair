{
 "cells": [
  {
   "cell_type": "code",
   "execution_count": 2,
   "id": "6fc426b6-08cb-4ac8-a445-41cdaf361177",
   "metadata": {},
   "outputs": [
    {
     "name": "stderr",
     "output_type": "stream",
     "text": [
      "/Users/joseph/Desktop/tensorflow-test/env/lib/python3.9/site-packages/tensorflow_io/python/ops/__init__.py:98: UserWarning: unable to load libtensorflow_io_plugins.so: unable to open file: libtensorflow_io_plugins.so, from paths: ['/Users/joseph/Desktop/tensorflow-test/env/lib/python3.9/site-packages/tensorflow_io/python/ops/libtensorflow_io_plugins.so']\n",
      "caused by: [\"[Errno 2] The file to load file system plugin from does not exist.: '/Users/joseph/Desktop/tensorflow-test/env/lib/python3.9/site-packages/tensorflow_io/python/ops/libtensorflow_io_plugins.so'\"]\n",
      "  warnings.warn(f\"unable to load libtensorflow_io_plugins.so: {e}\")\n",
      "/Users/joseph/Desktop/tensorflow-test/env/lib/python3.9/site-packages/tensorflow_io/python/ops/__init__.py:104: UserWarning: file system plugins are not loaded: unable to open file: libtensorflow_io.so, from paths: ['/Users/joseph/Desktop/tensorflow-test/env/lib/python3.9/site-packages/tensorflow_io/python/ops/libtensorflow_io.so']\n",
      "caused by: [\"dlopen(/Users/joseph/Desktop/tensorflow-test/env/lib/python3.9/site-packages/tensorflow_io/python/ops/libtensorflow_io.so, 0x0006): tried: '/Users/joseph/Desktop/tensorflow-test/env/lib/python3.9/site-packages/tensorflow_io/python/ops/libtensorflow_io.so' (no such file), '/usr/local/lib/libtensorflow_io.so' (no such file), '/usr/lib/libtensorflow_io.so' (no such file)\"]\n",
      "  warnings.warn(f\"file system plugins are not loaded: {e}\")\n"
     ]
    }
   ],
   "source": [
    "import os\n",
    "import pathlib\n",
    "import random\n",
    "\n",
    "import matplotlib.pyplot as plt\n",
    "import numpy as np\n",
    "import seaborn as sns\n",
    "import tensorflow as tf\n",
    "import librosa\n",
    "from sklearn.model_selection import train_test_split\n",
    "import tensorflow_io as tfio\n",
    "import tensorflow_addons as tfa\n",
    "import tensorflow.keras.regularizers as regularizers\n",
    "import scipy\n",
    "\n",
    "from tensorflow.keras import layers\n",
    "from tensorflow.keras import models\n",
    "from IPython import display\n",
    "\n",
    "# Set the seed value for experiment reproducibility.`\n",
    "\n",
    "seed = 42\n",
    "tf.random.set_seed(seed)\n",
    "np.random.seed(seed)"
   ]
  },
  {
   "cell_type": "code",
   "execution_count": 3,
   "id": "e4fa14fe-720f-4cc8-a2be-39523a4eadcb",
   "metadata": {},
   "outputs": [],
   "source": [
    "DATASET_PATH = '/Users/joseph/Desktop/tensorflow-test/newer-audio'\n",
    "\n",
    "data_dir = pathlib.Path(DATASET_PATH)"
   ]
  },
  {
   "cell_type": "code",
   "execution_count": 4,
   "id": "703ad360-00f1-4107-bcd3-32f9e8f955b6",
   "metadata": {},
   "outputs": [
    {
     "name": "stdout",
     "output_type": "stream",
     "text": [
      "Commands: ['real', 'fake']\n"
     ]
    }
   ],
   "source": [
    "commands = [\"real\", \"fake\"]\n",
    "print('Commands:', commands)"
   ]
  },
  {
   "cell_type": "code",
   "execution_count": 5,
   "id": "58718965-93ca-48fc-89b4-82bf6e12d39f",
   "metadata": {},
   "outputs": [
    {
     "name": "stderr",
     "output_type": "stream",
     "text": [
      "2022-01-16 16:18:44.121746: I tensorflow/core/common_runtime/pluggable_device/pluggable_device_factory.cc:305] Could not identify NUMA node of platform GPU ID 0, defaulting to 0. Your kernel may not have been built with NUMA support.\n",
      "2022-01-16 16:18:44.121888: I tensorflow/core/common_runtime/pluggable_device/pluggable_device_factory.cc:271] Created TensorFlow device (/job:localhost/replica:0/task:0/device:GPU:0 with 0 MB memory) -> physical PluggableDevice (device: 0, name: METAL, pci bus id: <undefined>)\n"
     ]
    },
    {
     "name": "stdout",
     "output_type": "stream",
     "text": [
      "Metal device set to: Apple M1 Max\n",
      "Number of total examples: 140800\n",
      "Number of examples per label: 70400\n",
      "tf.Tensor(\n",
      "[b'/Users/joseph/Desktop/tensorflow-test/newer-audio/real/file19236.wav_16k.wav_norm.wav_mono.wav_silence.wav_2sec/bothshift_audio.wav'\n",
      " b'/Users/joseph/Desktop/tensorflow-test/newer-audio/real/file19236.wav_16k.wav_norm.wav_mono.wav_silence.wav_2sec/pitch_audio.wav'\n",
      " b'/Users/joseph/Desktop/tensorflow-test/newer-audio/real/file19236.wav_16k.wav_norm.wav_mono.wav_silence.wav_2sec/noisebothshift_audio.wav'\n",
      " ...\n",
      " b'/Users/joseph/Desktop/tensorflow-test/newer-audio/fake/file1161.mp3.wav_16k.wav_norm.wav_mono.wav_silence.wav_2sec/noisepitch_audio.wav'\n",
      " b'/Users/joseph/Desktop/tensorflow-test/newer-audio/fake/file1161.mp3.wav_16k.wav_norm.wav_mono.wav_silence.wav_2sec/time_audio.wav'\n",
      " b'/Users/joseph/Desktop/tensorflow-test/newer-audio/fake/file1161.mp3.wav_16k.wav_norm.wav_mono.wav_silence.wav_2sec/audio.wav'], shape=(140800,), dtype=string)\n"
     ]
    }
   ],
   "source": [
    "fake_filefolders = tf.io.gfile.glob(str(data_dir) + '/fake/*')\n",
    "real_filefolders = tf.io.gfile.glob(str(data_dir) + '/real/*')\n",
    "fake_filefolders = tf.random.shuffle(fake_filefolders)\n",
    "real_filefolders = tf.random.shuffle(real_filefolders)\n",
    "\n",
    "filefolders = []\n",
    "filenames = []\n",
    "\n",
    "for i in range(len(real_filefolders)): # hardcoded because real_filenames is the smaller sample set\n",
    "    filefolders.append(real_filefolders[i].numpy().decode())\n",
    "    filefolders.append(fake_filefolders[i].numpy().decode())\n",
    "\n",
    "for i in range(len(filefolders)):\n",
    "    filenames.append((tf.io.gfile.glob(filefolders[i] + '/*')))\n",
    "    \n",
    "filenames = tf.concat([item for item in filenames], axis = 0)\n",
    "num_samples = len(filenames)\n",
    "print('Number of total examples:', num_samples)\n",
    "print('Number of examples per label:',\n",
    "      len(tf.io.gfile.glob(str(data_dir) + \"/\" + commands[0] + '/*/*')))\n",
    "print(filenames)"
   ]
  },
  {
   "cell_type": "code",
   "execution_count": 6,
   "id": "15a989a9-b421-4e25-8db5-164501df5754",
   "metadata": {},
   "outputs": [
    {
     "name": "stdout",
     "output_type": "stream",
     "text": [
      "Training set size 112640\n",
      "Validation set size 14080\n",
      "Test set size 14080\n"
     ]
    }
   ],
   "source": [
    "train_files = filenames[:round(num_samples*0.8)]\n",
    "val_files = filenames[round(num_samples*0.8): round(num_samples*0.9)]\n",
    "test_files = filenames[round(num_samples*0.9):]\n",
    "\n",
    "print('Training set size', len(train_files))\n",
    "print('Validation set size', len(val_files))\n",
    "print('Test set size', len(test_files))"
   ]
  },
  {
   "cell_type": "code",
   "execution_count": 7,
   "id": "cc568278-4784-4d1f-b1bf-379a5867a19f",
   "metadata": {},
   "outputs": [],
   "source": [
    "def decode_audio(audio_binary):\n",
    "  # Decode WAV-encoded audio files to `float32` tensors, normalized\n",
    "  # to the [-1.0, 1.0] range. Return `float32` audio and a sample rate.\n",
    "  audio, _ = tf.audio.decode_wav(contents=audio_binary)\n",
    "  # Since all the data is single channel (mono), drop the `channels`\n",
    "  # axis from the array.\n",
    "  return tf.squeeze(audio, axis=-1)"
   ]
  },
  {
   "cell_type": "code",
   "execution_count": 8,
   "id": "1442ac3a-2e68-43ce-98c1-62c97bc3bc37",
   "metadata": {},
   "outputs": [],
   "source": [
    "def get_label(file_path):\n",
    "  parts = tf.strings.split(\n",
    "      input=file_path,\n",
    "      sep=os.path.sep)\n",
    "  # Note: You'll use indexing here instead of tuple unpacking to enable this\n",
    "  # to work in a TensorFlow graph.\n",
    "  return parts[-3]"
   ]
  },
  {
   "cell_type": "code",
   "execution_count": 9,
   "id": "f14bd61b-a329-4704-93b0-c5985bc70729",
   "metadata": {},
   "outputs": [],
   "source": [
    "def get_waveform_and_label(file_path):\n",
    "  label = get_label(file_path)\n",
    "  audio_binary = tf.io.read_file(file_path)\n",
    "  waveform = decode_audio(audio_binary)\n",
    "  return waveform, label\n",
    "# waveform here is a tf tensor with 32000 values"
   ]
  },
  {
   "cell_type": "code",
   "execution_count": 10,
   "id": "75aff3e2-4f5d-4f15-90dc-95ae75a87843",
   "metadata": {},
   "outputs": [],
   "source": [
    "def make_spectrogram(waveform):\n",
    "  # Zero-padding for an audio waveform with less than 16,000 samples.\n",
    "  input_len = 32000\n",
    "  waveform = waveform[:input_len]\n",
    "  zero_padding = tf.zeros(\n",
    "      [input_len] - tf.shape(waveform),\n",
    "      dtype=tf.float32)\n",
    "  # Cast the waveform tensors' dtype to float32.\n",
    "  waveform = tf.cast(waveform, dtype=tf.float32)\n",
    "  # Concatenate the waveform with `zero_padding`, which ensures all audio\n",
    "  # clips are of the same length.\n",
    "  equal_length = tf.concat([waveform, zero_padding], 0)\n",
    "  spectrogram = tfio.audio.spectrogram(equal_length, nfft = 2048, window = 512, stride = 256)\n",
    "  mel_spectrogram = tfio.audio.melscale(\n",
    "    spectrogram, rate=16000, mels=128, fmin=0, fmax=8000)  \n",
    "  dbscale_mel_spectrogram = tfio.audio.dbscale(\n",
    "    mel_spectrogram, top_db=80)\n",
    "  dbscale_mel_spectrogram = dbscale_mel_spectrogram[..., tf.newaxis]\n",
    "  return dbscale_mel_spectrogram"
   ]
  },
  {
   "cell_type": "code",
   "execution_count": 11,
   "id": "d91e3aa6-3309-4d45-859e-350becd85bd8",
   "metadata": {},
   "outputs": [],
   "source": [
    "def plot_spectrogram(spectrogram, ax):\n",
    "  if len(spectrogram.shape) > 2:\n",
    "    assert len(spectrogram.shape) == 3\n",
    "    spectrogram = np.squeeze(spectrogram, axis=-1)\n",
    "  # Convert the frequencies to log scale and transpose, so that the time is\n",
    "  # represented on the x-axis (columns).\n",
    "  # Add an epsilon to avoid taking a log of zero.\n",
    "  # log_spec = np.log(spectrogram.T + np.finfo(float).eps)\n",
    "  height = spectrogram.shape[0]\n",
    "  width = spectrogram.shape[1]\n",
    "  X = np.linspace(0, np.size(spectrogram), num=width, dtype=int)\n",
    "  Y = range(height)\n",
    "  ax.pcolormesh(X, Y, spectrogram)\n",
    "  # plt.figure()\n",
    "  # plt.imshow(tf.math.log(spectrogram).numpy())"
   ]
  },
  {
   "cell_type": "code",
   "execution_count": 12,
   "id": "6da7f901-2e17-43da-8efa-a24cf06e35ff",
   "metadata": {},
   "outputs": [],
   "source": [
    "def get_spectrogram_and_label_id(audio, label):\n",
    "  spectrogram = make_spectrogram(audio)\n",
    "  label_id = tf.argmax(label == commands)\n",
    "  return spectrogram, label_id"
   ]
  },
  {
   "cell_type": "code",
   "execution_count": 13,
   "id": "79f50012-25c6-4677-b046-845f786a2381",
   "metadata": {},
   "outputs": [],
   "source": [
    "def freq_masking(spectrogram, label_id):\n",
    "    spectrogram = tf.squeeze(spectrogram)\n",
    "    freq_mask = tfio.audio.freq_mask(spectrogram, param=10)   \n",
    "    freq_mask = freq_mask[..., tf.newaxis]\n",
    "    return freq_mask, label_id"
   ]
  },
  {
   "cell_type": "code",
   "execution_count": 14,
   "id": "b424f20c-2f85-4d8c-971a-acb8ef31699e",
   "metadata": {},
   "outputs": [],
   "source": [
    "def time_masking(spectrogram, label_id):\n",
    "    spectrogram = tf.squeeze(spectrogram)\n",
    "    time_mask = tfio.audio.time_mask(spectrogram, param=10)\n",
    "    time_mask = time_mask[..., tf.newaxis]\n",
    "    return time_mask, label_id"
   ]
  },
  {
   "cell_type": "code",
   "execution_count": 15,
   "id": "a077dc4b-e6ef-4d90-bbb6-2b47e59e61de",
   "metadata": {},
   "outputs": [],
   "source": [
    "def specaugment(spectrogram, label_id):\n",
    "        augmented_spec, label_id = freq_masking(spectrogram, label_id)\n",
    "        augmented_spec, label_id = time_masking(augmented_spec, label_id)\n",
    "        return augmented_spec, label_id"
   ]
  },
  {
   "cell_type": "code",
   "execution_count": 16,
   "id": "9d15087c-cf92-4e90-ba48-b23222ee0f94",
   "metadata": {},
   "outputs": [],
   "source": [
    "def normalize_ds(spectrogram, label_id):\n",
    "    spectrogram = spectrogram + abs(tf.math.reduce_min(spectrogram))\n",
    "    spectrogram = spectrogram / tf.math.reduce_max(spectrogram)\n",
    "    return spectrogram, label_id"
   ]
  },
  {
   "cell_type": "code",
   "execution_count": 17,
   "id": "78e0c62f-484f-416e-bf4c-bf079804e4dd",
   "metadata": {},
   "outputs": [],
   "source": [
    "def preprocess_dataset(files):\n",
    "  AUTOTUNE = tf.data.AUTOTUNE\n",
    "    \n",
    "  files_ds = tf.data.Dataset.from_tensor_slices(files)\n",
    "  waveform_ds = files_ds.map(\n",
    "      map_func=get_waveform_and_label,\n",
    "      num_parallel_calls=AUTOTUNE)\n",
    "  spectrogram_ds = waveform_ds.map(\n",
    "      map_func=get_spectrogram_and_label_id,\n",
    "      num_parallel_calls=AUTOTUNE)\n",
    "  # specaugment_ds = spectrogram_ds.map(\n",
    "  #     map_func=specaugment,\n",
    "  #     num_parallel_calls=AUTOTUNE)\n",
    "  # second_output_ds = spectrogram_ds.concatenate(specaugment_ds)\n",
    "  output_ds = spectrogram_ds.map(\n",
    "      map_func=normalize_ds,\n",
    "      num_parallel_calls=AUTOTUNE)\n",
    "\n",
    "  output_ds = output_ds.cache().prefetch(AUTOTUNE)\n",
    "  \n",
    "  num_elements = tf.data.experimental.cardinality(output_ds).numpy()\n",
    "  print(num_elements)\n",
    "\n",
    "  output_ds = output_ds.shuffle(num_elements)\n",
    "    \n",
    "  return output_ds"
   ]
  },
  {
   "cell_type": "code",
   "execution_count": 18,
   "id": "960181f8-7b5e-440b-b9ac-4e192ef1a3ac",
   "metadata": {},
   "outputs": [],
   "source": [
    "# all_ds = preprocess_dataset(filenames)\n",
    "\n",
    "# num_elements = tf.data.experimental.cardinality(all_ds).numpy()\n",
    "\n",
    "# train_size = int(0.8*num_elements)\n",
    "# val_size = int(0.1*num_elements)\n",
    "# test_size = int(0.1*num_elements)\n",
    "\n",
    "# train_ds = all_ds.take(train_size)\n",
    "# test_ds = all_ds.skip(train_size)\n",
    "# val_ds = test_ds.skip(test_size)\n",
    "# test_ds = test_ds.take(test_size)"
   ]
  },
  {
   "cell_type": "code",
   "execution_count": 19,
   "id": "0caa78ec-316d-4f93-b490-730b869e90c5",
   "metadata": {},
   "outputs": [
    {
     "name": "stdout",
     "output_type": "stream",
     "text": [
      "112640\n",
      "14080\n",
      "14080\n"
     ]
    }
   ],
   "source": [
    "train_ds = preprocess_dataset(train_files)\n",
    "val_ds = preprocess_dataset(val_files)\n",
    "test_ds = preprocess_dataset(test_files)"
   ]
  },
  {
   "cell_type": "code",
   "execution_count": 20,
   "id": "89cff027-bb52-4065-a443-aa3e823b6fee",
   "metadata": {},
   "outputs": [],
   "source": [
    "batch_size = 32\n",
    "train_ds = train_ds.batch(batch_size)\n",
    "val_ds = val_ds.batch(batch_size)\n",
    "test_ds = test_ds.batch(batch_size)"
   ]
  },
  {
   "cell_type": "code",
   "execution_count": 23,
   "id": "259e93f5-e51c-4114-b87f-7aea250109b3",
   "metadata": {},
   "outputs": [
    {
     "name": "stdout",
     "output_type": "stream",
     "text": [
      "Model: \"sequential\"\n",
      "_________________________________________________________________\n",
      " Layer (type)                Output Shape              Param #   \n",
      "=================================================================\n",
      " flatten_2 (Flatten)         (None, 16000)             0         \n",
      "                                                                 \n",
      " dense_2 (Dense)             (None, 128)               2048128   \n",
      "                                                                 \n",
      " dense_3 (Dense)             (None, 64)                8256      \n",
      "                                                                 \n",
      " dropout (Dropout)           (None, 64)                0         \n",
      "                                                                 \n",
      " dense_4 (Dense)             (None, 1)                 65        \n",
      "                                                                 \n",
      "=================================================================\n",
      "Total params: 2,056,449\n",
      "Trainable params: 2,056,449\n",
      "Non-trainable params: 0\n",
      "_________________________________________________________________\n"
     ]
    }
   ],
   "source": [
    "input_shape = (125, 128, 1)\n",
    "\n",
    "model = models.Sequential([\n",
    "\n",
    "    layers.Flatten(input_shape=input_shape),\n",
    "\n",
    "    layers.Dense(128, activation='relu'),\n",
    "    layers.Dense(64, activation='relu'),\n",
    "    layers.Dropout(0.5),\n",
    "    layers.Dense(1, activation='sigmoid')\n",
    "    \n",
    "])\n",
    "\n",
    "model.summary()"
   ]
  },
  {
   "cell_type": "code",
   "execution_count": 21,
   "id": "2cff9c7b-2239-4c28-b185-250f057c4187",
   "metadata": {},
   "outputs": [],
   "source": [
    "checkpoint_path = \"/Users/joseph/Desktop/tensorflow-test/checkpoints/modelvnaught.ckpt\"\n",
    "checkpoint_dir = os.path.dirname(checkpoint_path)\n",
    "cp_callback = tf.keras.callbacks.ModelCheckpoint(filepath=checkpoint_path,\n",
    "                                                 save_weights_only=True,\n",
    "                                                 verbose=1)\n",
    "\n",
    "stopping_callback = tf.keras.callbacks.EarlyStopping(monitor='val_loss', verbose=1, patience=10)\n",
    "\n",
    "tqdm_callback = tfa.callbacks.TQDMProgressBar()\n",
    "    \n",
    "lr_callback = tf.keras.callbacks.ReduceLROnPlateau(monitor='val_loss', factor=0.5, patience=10)"
   ]
  },
  {
   "cell_type": "code",
   "execution_count": 22,
   "id": "d3ecd6c7-4ba4-418d-8d50-99050fda0f03",
   "metadata": {},
   "outputs": [],
   "source": [
    "model.compile(\n",
    "    optimizer=tf.keras.optimizers.Adam(),\n",
    "    loss=tf.losses.binary_crossentropy,\n",
    "    metrics=['accuracy'],\n",
    ")"
   ]
  },
  {
   "cell_type": "code",
   "execution_count": 23,
   "id": "df3e70f3-b490-447e-966c-2139eb40df3a",
   "metadata": {},
   "outputs": [
    {
     "name": "stdout",
     "output_type": "stream",
     "text": [
      "Epoch 1/60\n"
     ]
    },
    {
     "name": "stderr",
     "output_type": "stream",
     "text": [
      "2022-01-14 17:35:41.957624: W tensorflow/core/platform/profile_utils/cpu_utils.cc:128] Failed to get CPU frequency: 0 Hz\n",
      "2022-01-14 17:35:41.957706: I tensorflow/core/grappler/optimizers/custom_graph_optimizer_registry.cc:112] Plugin optimizer for device_type GPU is enabled.\n",
      "2022-01-14 17:35:51.989738: I tensorflow/core/kernels/data/shuffle_dataset_op.cc:380] Filling up shuffle buffer (this may take a while): 9650 of 112640\n",
      "2022-01-14 17:36:01.991114: I tensorflow/core/kernels/data/shuffle_dataset_op.cc:380] Filling up shuffle buffer (this may take a while): 19664 of 112640\n",
      "2022-01-14 17:36:11.990355: I tensorflow/core/kernels/data/shuffle_dataset_op.cc:380] Filling up shuffle buffer (this may take a while): 29752 of 112640\n",
      "2022-01-14 17:36:21.989936: I tensorflow/core/kernels/data/shuffle_dataset_op.cc:380] Filling up shuffle buffer (this may take a while): 39806 of 112640\n",
      "2022-01-14 17:36:31.989201: I tensorflow/core/kernels/data/shuffle_dataset_op.cc:380] Filling up shuffle buffer (this may take a while): 49158 of 112640\n",
      "2022-01-14 17:36:41.989842: I tensorflow/core/kernels/data/shuffle_dataset_op.cc:380] Filling up shuffle buffer (this may take a while): 58386 of 112640\n",
      "2022-01-14 17:36:51.990202: I tensorflow/core/kernels/data/shuffle_dataset_op.cc:380] Filling up shuffle buffer (this may take a while): 67596 of 112640\n",
      "2022-01-14 17:37:01.989516: I tensorflow/core/kernels/data/shuffle_dataset_op.cc:380] Filling up shuffle buffer (this may take a while): 73606 of 112640\n",
      "2022-01-14 17:37:11.990455: I tensorflow/core/kernels/data/shuffle_dataset_op.cc:380] Filling up shuffle buffer (this may take a while): 79098 of 112640\n",
      "2022-01-14 17:37:21.989821: I tensorflow/core/kernels/data/shuffle_dataset_op.cc:380] Filling up shuffle buffer (this may take a while): 84622 of 112640\n",
      "2022-01-14 17:37:32.001832: I tensorflow/core/kernels/data/shuffle_dataset_op.cc:380] Filling up shuffle buffer (this may take a while): 90343 of 112640\n",
      "2022-01-14 17:37:41.990762: I tensorflow/core/kernels/data/shuffle_dataset_op.cc:380] Filling up shuffle buffer (this may take a while): 96127 of 112640\n",
      "2022-01-14 17:37:51.990326: I tensorflow/core/kernels/data/shuffle_dataset_op.cc:380] Filling up shuffle buffer (this may take a while): 101826 of 112640\n",
      "2022-01-14 17:38:01.989774: I tensorflow/core/kernels/data/shuffle_dataset_op.cc:380] Filling up shuffle buffer (this may take a while): 107676 of 112640\n"
     ]
    },
    {
     "name": "stdout",
     "output_type": "stream",
     "text": [
      "   4/3520 [..............................] - ETA: 59s - loss: 3.5979 - accuracy: 0.4766      "
     ]
    },
    {
     "name": "stderr",
     "output_type": "stream",
     "text": [
      "2022-01-14 17:38:10.707559: I tensorflow/core/kernels/data/shuffle_dataset_op.cc:405] Shuffle buffer filled.\n"
     ]
    },
    {
     "name": "stdout",
     "output_type": "stream",
     "text": [
      "3520/3520 [==============================] - ETA: 0s - loss: 0.6745 - accuracy: 0.5523"
     ]
    },
    {
     "name": "stderr",
     "output_type": "stream",
     "text": [
      "2022-01-14 17:39:20.422272: I tensorflow/core/grappler/optimizers/custom_graph_optimizer_registry.cc:112] Plugin optimizer for device_type GPU is enabled.\n",
      "2022-01-14 17:39:30.436746: I tensorflow/core/kernels/data/shuffle_dataset_op.cc:380] Filling up shuffle buffer (this may take a while): 4960 of 14080\n",
      "2022-01-14 17:39:40.444917: I tensorflow/core/kernels/data/shuffle_dataset_op.cc:380] Filling up shuffle buffer (this may take a while): 9812 of 14080\n",
      "2022-01-14 17:39:49.109283: I tensorflow/core/kernels/data/shuffle_dataset_op.cc:405] Shuffle buffer filled.\n"
     ]
    },
    {
     "name": "stdout",
     "output_type": "stream",
     "text": [
      "\n",
      "Epoch 00001: saving model to /Users/joseph/Desktop/tensorflow-test/checkpoints/modelvnaught.ckpt\n",
      "3520/3520 [==============================] - 252s 29ms/step - loss: 0.6745 - accuracy: 0.5523 - val_loss: 0.6591 - val_accuracy: 0.5622 - lr: 0.0010\n",
      "Epoch 2/60\n",
      "3520/3520 [==============================] - ETA: 0s - loss: 0.6592 - accuracy: 0.5566\n",
      "Epoch 00002: saving model to /Users/joseph/Desktop/tensorflow-test/checkpoints/modelvnaught.ckpt\n",
      "3520/3520 [==============================] - 41s 11ms/step - loss: 0.6592 - accuracy: 0.5566 - val_loss: 0.6509 - val_accuracy: 0.5780 - lr: 0.0010\n",
      "Epoch 3/60\n",
      "3519/3520 [============================>.] - ETA: 0s - loss: 0.6231 - accuracy: 0.6179\n",
      "Epoch 00003: saving model to /Users/joseph/Desktop/tensorflow-test/checkpoints/modelvnaught.ckpt\n",
      "3520/3520 [==============================] - 40s 11ms/step - loss: 0.6231 - accuracy: 0.6179 - val_loss: 0.5855 - val_accuracy: 0.6619 - lr: 0.0010\n",
      "Epoch 4/60\n",
      "3519/3520 [============================>.] - ETA: 0s - loss: 0.5860 - accuracy: 0.6582\n",
      "Epoch 00004: saving model to /Users/joseph/Desktop/tensorflow-test/checkpoints/modelvnaught.ckpt\n",
      "3520/3520 [==============================] - 47s 13ms/step - loss: 0.5860 - accuracy: 0.6582 - val_loss: 0.5811 - val_accuracy: 0.6655 - lr: 0.0010\n",
      "Epoch 5/60\n",
      "3515/3520 [============================>.] - ETA: 0s - loss: 0.5827 - accuracy: 0.6598\n",
      "Epoch 00005: saving model to /Users/joseph/Desktop/tensorflow-test/checkpoints/modelvnaught.ckpt\n",
      "3520/3520 [==============================] - 41s 12ms/step - loss: 0.5827 - accuracy: 0.6598 - val_loss: 0.5896 - val_accuracy: 0.6589 - lr: 0.0010\n",
      "Epoch 6/60\n",
      "3517/3520 [============================>.] - ETA: 0s - loss: 0.5804 - accuracy: 0.6619\n",
      "Epoch 00006: saving model to /Users/joseph/Desktop/tensorflow-test/checkpoints/modelvnaught.ckpt\n",
      "3520/3520 [==============================] - 40s 11ms/step - loss: 0.5803 - accuracy: 0.6619 - val_loss: 0.5833 - val_accuracy: 0.6636 - lr: 0.0010\n",
      "Epoch 7/60\n",
      "3516/3520 [============================>.] - ETA: 0s - loss: 0.5715 - accuracy: 0.6755\n",
      "Epoch 00007: saving model to /Users/joseph/Desktop/tensorflow-test/checkpoints/modelvnaught.ckpt\n",
      "3520/3520 [==============================] - 40s 11ms/step - loss: 0.5714 - accuracy: 0.6756 - val_loss: 0.5393 - val_accuracy: 0.7206 - lr: 0.0010\n",
      "Epoch 8/60\n",
      "3517/3520 [============================>.] - ETA: 0s - loss: 0.4993 - accuracy: 0.7609\n",
      "Epoch 00008: saving model to /Users/joseph/Desktop/tensorflow-test/checkpoints/modelvnaught.ckpt\n",
      "3520/3520 [==============================] - 40s 11ms/step - loss: 0.4993 - accuracy: 0.7608 - val_loss: 0.4971 - val_accuracy: 0.7567 - lr: 0.0010\n",
      "Epoch 9/60\n",
      "3519/3520 [============================>.] - ETA: 0s - loss: 0.4830 - accuracy: 0.7755\n",
      "Epoch 00009: saving model to /Users/joseph/Desktop/tensorflow-test/checkpoints/modelvnaught.ckpt\n",
      "3520/3520 [==============================] - 41s 12ms/step - loss: 0.4830 - accuracy: 0.7756 - val_loss: 0.4632 - val_accuracy: 0.7895 - lr: 0.0010\n",
      "Epoch 10/60\n",
      "3520/3520 [==============================] - ETA: 0s - loss: 0.4785 - accuracy: 0.7803\n",
      "Epoch 00010: saving model to /Users/joseph/Desktop/tensorflow-test/checkpoints/modelvnaught.ckpt\n",
      "3520/3520 [==============================] - 40s 11ms/step - loss: 0.4785 - accuracy: 0.7803 - val_loss: 0.4701 - val_accuracy: 0.7813 - lr: 0.0010\n",
      "Epoch 11/60\n",
      "3518/3520 [============================>.] - ETA: 0s - loss: 0.4758 - accuracy: 0.7830\n",
      "Epoch 00011: saving model to /Users/joseph/Desktop/tensorflow-test/checkpoints/modelvnaught.ckpt\n",
      "3520/3520 [==============================] - 41s 12ms/step - loss: 0.4757 - accuracy: 0.7830 - val_loss: 0.4637 - val_accuracy: 0.7928 - lr: 0.0010\n",
      "Epoch 12/60\n",
      "3517/3520 [============================>.] - ETA: 0s - loss: 0.4707 - accuracy: 0.7872\n",
      "Epoch 00012: saving model to /Users/joseph/Desktop/tensorflow-test/checkpoints/modelvnaught.ckpt\n",
      "3520/3520 [==============================] - 40s 11ms/step - loss: 0.4706 - accuracy: 0.7873 - val_loss: 0.4930 - val_accuracy: 0.7755 - lr: 0.0010\n",
      "Epoch 13/60\n",
      "3520/3520 [==============================] - ETA: 0s - loss: 0.4696 - accuracy: 0.7879\n",
      "Epoch 00013: saving model to /Users/joseph/Desktop/tensorflow-test/checkpoints/modelvnaught.ckpt\n",
      "3520/3520 [==============================] - 40s 11ms/step - loss: 0.4696 - accuracy: 0.7879 - val_loss: 0.4601 - val_accuracy: 0.7913 - lr: 0.0010\n",
      "Epoch 14/60\n",
      "3517/3520 [============================>.] - ETA: 0s - loss: 0.4692 - accuracy: 0.7872\n",
      "Epoch 00014: saving model to /Users/joseph/Desktop/tensorflow-test/checkpoints/modelvnaught.ckpt\n",
      "3520/3520 [==============================] - 38s 11ms/step - loss: 0.4692 - accuracy: 0.7872 - val_loss: 0.4663 - val_accuracy: 0.7906 - lr: 0.0010\n",
      "Epoch 15/60\n",
      "3516/3520 [============================>.] - ETA: 0s - loss: 0.4680 - accuracy: 0.7868\n",
      "Epoch 00015: saving model to /Users/joseph/Desktop/tensorflow-test/checkpoints/modelvnaught.ckpt\n",
      "3520/3520 [==============================] - 39s 11ms/step - loss: 0.4680 - accuracy: 0.7868 - val_loss: 0.4970 - val_accuracy: 0.7584 - lr: 0.0010\n",
      "Epoch 16/60\n",
      "3518/3520 [============================>.] - ETA: 0s - loss: 0.4642 - accuracy: 0.7899\n",
      "Epoch 00016: saving model to /Users/joseph/Desktop/tensorflow-test/checkpoints/modelvnaught.ckpt\n",
      "3520/3520 [==============================] - 41s 12ms/step - loss: 0.4643 - accuracy: 0.7899 - val_loss: 0.4665 - val_accuracy: 0.7855 - lr: 0.0010\n",
      "Epoch 17/60\n",
      "3516/3520 [============================>.] - ETA: 0s - loss: 0.4643 - accuracy: 0.7900\n",
      "Epoch 00017: saving model to /Users/joseph/Desktop/tensorflow-test/checkpoints/modelvnaught.ckpt\n",
      "3520/3520 [==============================] - 41s 11ms/step - loss: 0.4643 - accuracy: 0.7900 - val_loss: 0.4602 - val_accuracy: 0.7932 - lr: 0.0010\n",
      "Epoch 18/60\n",
      "3516/3520 [============================>.] - ETA: 0s - loss: 0.4621 - accuracy: 0.7924\n",
      "Epoch 00018: saving model to /Users/joseph/Desktop/tensorflow-test/checkpoints/modelvnaught.ckpt\n",
      "3520/3520 [==============================] - 40s 11ms/step - loss: 0.4621 - accuracy: 0.7924 - val_loss: 0.4609 - val_accuracy: 0.7925 - lr: 0.0010\n",
      "Epoch 19/60\n",
      "3519/3520 [============================>.] - ETA: 0s - loss: 0.4608 - accuracy: 0.7937\n",
      "Epoch 00019: saving model to /Users/joseph/Desktop/tensorflow-test/checkpoints/modelvnaught.ckpt\n",
      "3520/3520 [==============================] - 40s 11ms/step - loss: 0.4608 - accuracy: 0.7937 - val_loss: 0.4727 - val_accuracy: 0.7858 - lr: 0.0010\n",
      "Epoch 20/60\n",
      "3516/3520 [============================>.] - ETA: 0s - loss: 0.4601 - accuracy: 0.7936\n",
      "Epoch 00020: saving model to /Users/joseph/Desktop/tensorflow-test/checkpoints/modelvnaught.ckpt\n",
      "3520/3520 [==============================] - 39s 11ms/step - loss: 0.4601 - accuracy: 0.7936 - val_loss: 0.4584 - val_accuracy: 0.7935 - lr: 0.0010\n",
      "Epoch 21/60\n",
      "3520/3520 [==============================] - ETA: 0s - loss: 0.4591 - accuracy: 0.7939\n",
      "Epoch 00021: saving model to /Users/joseph/Desktop/tensorflow-test/checkpoints/modelvnaught.ckpt\n",
      "3520/3520 [==============================] - 39s 11ms/step - loss: 0.4591 - accuracy: 0.7939 - val_loss: 0.4728 - val_accuracy: 0.7857 - lr: 0.0010\n",
      "Epoch 22/60\n",
      "3517/3520 [============================>.] - ETA: 0s - loss: 0.4580 - accuracy: 0.7943\n",
      "Epoch 00022: saving model to /Users/joseph/Desktop/tensorflow-test/checkpoints/modelvnaught.ckpt\n",
      "3520/3520 [==============================] - 45s 13ms/step - loss: 0.4581 - accuracy: 0.7943 - val_loss: 0.4586 - val_accuracy: 0.7905 - lr: 0.0010\n",
      "Epoch 23/60\n",
      "3520/3520 [==============================] - ETA: 0s - loss: 0.4554 - accuracy: 0.7966\n",
      "Epoch 00023: saving model to /Users/joseph/Desktop/tensorflow-test/checkpoints/modelvnaught.ckpt\n",
      "3520/3520 [==============================] - 44s 12ms/step - loss: 0.4554 - accuracy: 0.7966 - val_loss: 0.4563 - val_accuracy: 0.7955 - lr: 0.0010\n",
      "Epoch 24/60\n",
      "3517/3520 [============================>.] - ETA: 0s - loss: 0.4549 - accuracy: 0.7957\n",
      "Epoch 00024: saving model to /Users/joseph/Desktop/tensorflow-test/checkpoints/modelvnaught.ckpt\n",
      "3520/3520 [==============================] - 45s 13ms/step - loss: 0.4549 - accuracy: 0.7957 - val_loss: 0.4647 - val_accuracy: 0.7850 - lr: 0.0010\n",
      "Epoch 25/60\n",
      "3519/3520 [============================>.] - ETA: 0s - loss: 0.4525 - accuracy: 0.7988\n",
      "Epoch 00025: saving model to /Users/joseph/Desktop/tensorflow-test/checkpoints/modelvnaught.ckpt\n",
      "3520/3520 [==============================] - 44s 12ms/step - loss: 0.4525 - accuracy: 0.7988 - val_loss: 0.4653 - val_accuracy: 0.7872 - lr: 0.0010\n",
      "Epoch 26/60\n",
      "3519/3520 [============================>.] - ETA: 0s - loss: 0.4514 - accuracy: 0.7990\n",
      "Epoch 00026: saving model to /Users/joseph/Desktop/tensorflow-test/checkpoints/modelvnaught.ckpt\n",
      "3520/3520 [==============================] - 44s 12ms/step - loss: 0.4514 - accuracy: 0.7991 - val_loss: 0.4579 - val_accuracy: 0.7885 - lr: 0.0010\n",
      "Epoch 27/60\n",
      "3517/3520 [============================>.] - ETA: 0s - loss: 0.4495 - accuracy: 0.7986\n",
      "Epoch 00027: saving model to /Users/joseph/Desktop/tensorflow-test/checkpoints/modelvnaught.ckpt\n",
      "3520/3520 [==============================] - 45s 13ms/step - loss: 0.4496 - accuracy: 0.7985 - val_loss: 0.4669 - val_accuracy: 0.7811 - lr: 0.0010\n",
      "Epoch 28/60\n",
      "3516/3520 [============================>.] - ETA: 0s - loss: 0.4472 - accuracy: 0.8016\n",
      "Epoch 00028: saving model to /Users/joseph/Desktop/tensorflow-test/checkpoints/modelvnaught.ckpt\n",
      "3520/3520 [==============================] - 45s 13ms/step - loss: 0.4472 - accuracy: 0.8016 - val_loss: 0.4523 - val_accuracy: 0.7965 - lr: 0.0010\n",
      "Epoch 29/60\n",
      "3518/3520 [============================>.] - ETA: 0s - loss: 0.4503 - accuracy: 0.7996\n",
      "Epoch 00029: saving model to /Users/joseph/Desktop/tensorflow-test/checkpoints/modelvnaught.ckpt\n",
      "3520/3520 [==============================] - 45s 13ms/step - loss: 0.4504 - accuracy: 0.7996 - val_loss: 0.4780 - val_accuracy: 0.7766 - lr: 0.0010\n",
      "Epoch 30/60\n",
      "3519/3520 [============================>.] - ETA: 0s - loss: 0.4452 - accuracy: 0.8014\n",
      "Epoch 00030: saving model to /Users/joseph/Desktop/tensorflow-test/checkpoints/modelvnaught.ckpt\n",
      "3520/3520 [==============================] - 45s 13ms/step - loss: 0.4452 - accuracy: 0.8014 - val_loss: 0.4683 - val_accuracy: 0.7866 - lr: 0.0010\n",
      "Epoch 31/60\n",
      "3516/3520 [============================>.] - ETA: 0s - loss: 0.4462 - accuracy: 0.8019\n",
      "Epoch 00031: saving model to /Users/joseph/Desktop/tensorflow-test/checkpoints/modelvnaught.ckpt\n",
      "3520/3520 [==============================] - 46s 13ms/step - loss: 0.4462 - accuracy: 0.8019 - val_loss: 0.4821 - val_accuracy: 0.7722 - lr: 0.0010\n",
      "Epoch 32/60\n",
      "3518/3520 [============================>.] - ETA: 0s - loss: 0.4430 - accuracy: 0.8037\n",
      "Epoch 00032: saving model to /Users/joseph/Desktop/tensorflow-test/checkpoints/modelvnaught.ckpt\n",
      "3520/3520 [==============================] - 46s 13ms/step - loss: 0.4430 - accuracy: 0.8037 - val_loss: 0.4919 - val_accuracy: 0.7597 - lr: 0.0010\n",
      "Epoch 33/60\n",
      "3516/3520 [============================>.] - ETA: 0s - loss: 0.4420 - accuracy: 0.8043\n",
      "Epoch 00033: saving model to /Users/joseph/Desktop/tensorflow-test/checkpoints/modelvnaught.ckpt\n",
      "3520/3520 [==============================] - 50s 14ms/step - loss: 0.4421 - accuracy: 0.8043 - val_loss: 0.4489 - val_accuracy: 0.7988 - lr: 0.0010\n",
      "Epoch 34/60\n",
      "3516/3520 [============================>.] - ETA: 0s - loss: 0.4411 - accuracy: 0.8047\n",
      "Epoch 00034: saving model to /Users/joseph/Desktop/tensorflow-test/checkpoints/modelvnaught.ckpt\n",
      "3520/3520 [==============================] - 46s 13ms/step - loss: 0.4410 - accuracy: 0.8047 - val_loss: 0.4476 - val_accuracy: 0.7968 - lr: 0.0010\n",
      "Epoch 35/60\n",
      "3518/3520 [============================>.] - ETA: 0s - loss: 0.4404 - accuracy: 0.8051\n",
      "Epoch 00035: saving model to /Users/joseph/Desktop/tensorflow-test/checkpoints/modelvnaught.ckpt\n",
      "3520/3520 [==============================] - 47s 13ms/step - loss: 0.4404 - accuracy: 0.8051 - val_loss: 0.4462 - val_accuracy: 0.7970 - lr: 0.0010\n",
      "Epoch 36/60\n",
      "3516/3520 [============================>.] - ETA: 0s - loss: 0.4379 - accuracy: 0.8054\n",
      "Epoch 00036: saving model to /Users/joseph/Desktop/tensorflow-test/checkpoints/modelvnaught.ckpt\n",
      "3520/3520 [==============================] - 47s 13ms/step - loss: 0.4379 - accuracy: 0.8054 - val_loss: 0.4522 - val_accuracy: 0.7941 - lr: 0.0010\n",
      "Epoch 37/60\n",
      "3520/3520 [==============================] - ETA: 0s - loss: 0.4365 - accuracy: 0.8080\n",
      "Epoch 00037: saving model to /Users/joseph/Desktop/tensorflow-test/checkpoints/modelvnaught.ckpt\n",
      "3520/3520 [==============================] - 47s 13ms/step - loss: 0.4365 - accuracy: 0.8080 - val_loss: 0.4636 - val_accuracy: 0.7894 - lr: 0.0010\n",
      "Epoch 38/60\n",
      "3517/3520 [============================>.] - ETA: 0s - loss: 0.4394 - accuracy: 0.8055\n",
      "Epoch 00038: saving model to /Users/joseph/Desktop/tensorflow-test/checkpoints/modelvnaught.ckpt\n",
      "3520/3520 [==============================] - 45s 13ms/step - loss: 0.4394 - accuracy: 0.8055 - val_loss: 0.4481 - val_accuracy: 0.7979 - lr: 0.0010\n",
      "Epoch 39/60\n",
      "3519/3520 [============================>.] - ETA: 0s - loss: 0.4374 - accuracy: 0.8066\n",
      "Epoch 00039: saving model to /Users/joseph/Desktop/tensorflow-test/checkpoints/modelvnaught.ckpt\n",
      "3520/3520 [==============================] - 47s 13ms/step - loss: 0.4374 - accuracy: 0.8066 - val_loss: 0.4446 - val_accuracy: 0.8001 - lr: 0.0010\n",
      "Epoch 40/60\n",
      "3520/3520 [==============================] - ETA: 0s - loss: 0.4375 - accuracy: 0.8059\n",
      "Epoch 00040: saving model to /Users/joseph/Desktop/tensorflow-test/checkpoints/modelvnaught.ckpt\n",
      "3520/3520 [==============================] - 47s 13ms/step - loss: 0.4375 - accuracy: 0.8059 - val_loss: 0.4436 - val_accuracy: 0.7996 - lr: 0.0010\n",
      "Epoch 41/60\n",
      "3519/3520 [============================>.] - ETA: 0s - loss: 0.4358 - accuracy: 0.8076\n",
      "Epoch 00041: saving model to /Users/joseph/Desktop/tensorflow-test/checkpoints/modelvnaught.ckpt\n",
      "3520/3520 [==============================] - 46s 13ms/step - loss: 0.4358 - accuracy: 0.8076 - val_loss: 0.5252 - val_accuracy: 0.7511 - lr: 0.0010\n",
      "Epoch 42/60\n",
      "3518/3520 [============================>.] - ETA: 0s - loss: 0.4335 - accuracy: 0.8091\n",
      "Epoch 00042: saving model to /Users/joseph/Desktop/tensorflow-test/checkpoints/modelvnaught.ckpt\n",
      "3520/3520 [==============================] - 47s 13ms/step - loss: 0.4335 - accuracy: 0.8091 - val_loss: 0.4561 - val_accuracy: 0.7915 - lr: 0.0010\n",
      "Epoch 43/60\n",
      "3517/3520 [============================>.] - ETA: 0s - loss: 0.4353 - accuracy: 0.8076\n",
      "Epoch 00043: saving model to /Users/joseph/Desktop/tensorflow-test/checkpoints/modelvnaught.ckpt\n",
      "3520/3520 [==============================] - 46s 13ms/step - loss: 0.4353 - accuracy: 0.8077 - val_loss: 0.4952 - val_accuracy: 0.7651 - lr: 0.0010\n",
      "Epoch 44/60\n",
      "3519/3520 [============================>.] - ETA: 0s - loss: 0.4311 - accuracy: 0.8103\n",
      "Epoch 00044: saving model to /Users/joseph/Desktop/tensorflow-test/checkpoints/modelvnaught.ckpt\n",
      "3520/3520 [==============================] - 48s 14ms/step - loss: 0.4310 - accuracy: 0.8103 - val_loss: 0.4582 - val_accuracy: 0.7910 - lr: 0.0010\n",
      "Epoch 45/60\n",
      "3517/3520 [============================>.] - ETA: 0s - loss: 0.4313 - accuracy: 0.8105\n",
      "Epoch 00045: saving model to /Users/joseph/Desktop/tensorflow-test/checkpoints/modelvnaught.ckpt\n",
      "3520/3520 [==============================] - 48s 13ms/step - loss: 0.4315 - accuracy: 0.8103 - val_loss: 0.4423 - val_accuracy: 0.7969 - lr: 0.0010\n",
      "Epoch 46/60\n",
      "3519/3520 [============================>.] - ETA: 0s - loss: 0.4324 - accuracy: 0.8096\n",
      "Epoch 00046: saving model to /Users/joseph/Desktop/tensorflow-test/checkpoints/modelvnaught.ckpt\n",
      "3520/3520 [==============================] - 47s 13ms/step - loss: 0.4324 - accuracy: 0.8095 - val_loss: 0.4793 - val_accuracy: 0.7695 - lr: 0.0010\n",
      "Epoch 47/60\n",
      "3519/3520 [============================>.] - ETA: 0s - loss: 0.4337 - accuracy: 0.8080\n",
      "Epoch 00047: saving model to /Users/joseph/Desktop/tensorflow-test/checkpoints/modelvnaught.ckpt\n",
      "3520/3520 [==============================] - 48s 14ms/step - loss: 0.4337 - accuracy: 0.8079 - val_loss: 0.4458 - val_accuracy: 0.7986 - lr: 0.0010\n",
      "Epoch 48/60\n",
      "3517/3520 [============================>.] - ETA: 0s - loss: 0.4318 - accuracy: 0.8097\n",
      "Epoch 00048: saving model to /Users/joseph/Desktop/tensorflow-test/checkpoints/modelvnaught.ckpt\n",
      "3520/3520 [==============================] - 49s 14ms/step - loss: 0.4318 - accuracy: 0.8097 - val_loss: 0.4647 - val_accuracy: 0.7847 - lr: 0.0010\n",
      "Epoch 49/60\n",
      "3520/3520 [==============================] - ETA: 0s - loss: 0.4308 - accuracy: 0.8096\n",
      "Epoch 00049: saving model to /Users/joseph/Desktop/tensorflow-test/checkpoints/modelvnaught.ckpt\n",
      "3520/3520 [==============================] - 48s 14ms/step - loss: 0.4308 - accuracy: 0.8096 - val_loss: 0.4463 - val_accuracy: 0.7960 - lr: 0.0010\n",
      "Epoch 50/60\n",
      "3519/3520 [============================>.] - ETA: 0s - loss: 0.4278 - accuracy: 0.8120\n",
      "Epoch 00050: saving model to /Users/joseph/Desktop/tensorflow-test/checkpoints/modelvnaught.ckpt\n",
      "3520/3520 [==============================] - 50s 14ms/step - loss: 0.4278 - accuracy: 0.8120 - val_loss: 0.4485 - val_accuracy: 0.7931 - lr: 0.0010\n",
      "Epoch 51/60\n",
      "3519/3520 [============================>.] - ETA: 0s - loss: 0.4314 - accuracy: 0.8093\n",
      "Epoch 00051: saving model to /Users/joseph/Desktop/tensorflow-test/checkpoints/modelvnaught.ckpt\n",
      "3520/3520 [==============================] - 49s 14ms/step - loss: 0.4314 - accuracy: 0.8093 - val_loss: 0.4419 - val_accuracy: 0.8004 - lr: 0.0010\n",
      "Epoch 52/60\n",
      "3520/3520 [==============================] - ETA: 0s - loss: 0.4279 - accuracy: 0.8113\n",
      "Epoch 00052: saving model to /Users/joseph/Desktop/tensorflow-test/checkpoints/modelvnaught.ckpt\n",
      "3520/3520 [==============================] - 47s 13ms/step - loss: 0.4279 - accuracy: 0.8113 - val_loss: 0.4437 - val_accuracy: 0.7968 - lr: 0.0010\n",
      "Epoch 53/60\n",
      "3518/3520 [============================>.] - ETA: 0s - loss: 0.4275 - accuracy: 0.8127\n",
      "Epoch 00053: saving model to /Users/joseph/Desktop/tensorflow-test/checkpoints/modelvnaught.ckpt\n",
      "3520/3520 [==============================] - 47s 13ms/step - loss: 0.4275 - accuracy: 0.8127 - val_loss: 0.4453 - val_accuracy: 0.7973 - lr: 0.0010\n",
      "Epoch 54/60\n",
      "3520/3520 [==============================] - ETA: 0s - loss: 0.4295 - accuracy: 0.8111\n",
      "Epoch 00054: saving model to /Users/joseph/Desktop/tensorflow-test/checkpoints/modelvnaught.ckpt\n",
      "3520/3520 [==============================] - 47s 13ms/step - loss: 0.4295 - accuracy: 0.8111 - val_loss: 0.4979 - val_accuracy: 0.7621 - lr: 0.0010\n",
      "Epoch 55/60\n",
      "3520/3520 [==============================] - ETA: 0s - loss: 0.4272 - accuracy: 0.8121\n",
      "Epoch 00055: saving model to /Users/joseph/Desktop/tensorflow-test/checkpoints/modelvnaught.ckpt\n",
      "3520/3520 [==============================] - 47s 13ms/step - loss: 0.4272 - accuracy: 0.8121 - val_loss: 0.4641 - val_accuracy: 0.7873 - lr: 0.0010\n",
      "Epoch 56/60\n",
      "3517/3520 [============================>.] - ETA: 0s - loss: 0.4263 - accuracy: 0.8127\n",
      "Epoch 00056: saving model to /Users/joseph/Desktop/tensorflow-test/checkpoints/modelvnaught.ckpt\n",
      "3520/3520 [==============================] - 46s 13ms/step - loss: 0.4262 - accuracy: 0.8127 - val_loss: 0.4771 - val_accuracy: 0.7843 - lr: 0.0010\n",
      "Epoch 57/60\n",
      "3520/3520 [==============================] - ETA: 0s - loss: 0.4252 - accuracy: 0.8136\n",
      "Epoch 00057: saving model to /Users/joseph/Desktop/tensorflow-test/checkpoints/modelvnaught.ckpt\n",
      "3520/3520 [==============================] - 46s 13ms/step - loss: 0.4252 - accuracy: 0.8136 - val_loss: 0.4640 - val_accuracy: 0.7837 - lr: 0.0010\n",
      "Epoch 58/60\n",
      "3516/3520 [============================>.] - ETA: 0s - loss: 0.4232 - accuracy: 0.8147\n",
      "Epoch 00058: saving model to /Users/joseph/Desktop/tensorflow-test/checkpoints/modelvnaught.ckpt\n",
      "3520/3520 [==============================] - 46s 13ms/step - loss: 0.4231 - accuracy: 0.8148 - val_loss: 0.4461 - val_accuracy: 0.7962 - lr: 0.0010\n",
      "Epoch 59/60\n",
      "3516/3520 [============================>.] - ETA: 0s - loss: 0.4248 - accuracy: 0.8134\n",
      "Epoch 00059: saving model to /Users/joseph/Desktop/tensorflow-test/checkpoints/modelvnaught.ckpt\n",
      "3520/3520 [==============================] - 47s 13ms/step - loss: 0.4247 - accuracy: 0.8135 - val_loss: 0.4463 - val_accuracy: 0.7989 - lr: 0.0010\n",
      "Epoch 60/60\n",
      "3520/3520 [==============================] - ETA: 0s - loss: 0.4250 - accuracy: 0.8144\n",
      "Epoch 00060: saving model to /Users/joseph/Desktop/tensorflow-test/checkpoints/modelvnaught.ckpt\n",
      "3520/3520 [==============================] - 47s 13ms/step - loss: 0.4250 - accuracy: 0.8144 - val_loss: 0.4440 - val_accuracy: 0.7942 - lr: 0.0010\n"
     ]
    }
   ],
   "source": [
    "history = model.fit(\n",
    "    train_ds,\n",
    "    validation_data=val_ds,\n",
    "    epochs=60,\n",
    "    verbose=1,\n",
    "    callbacks=[cp_callback, lr_callback],\n",
    ")"
   ]
  },
  {
   "cell_type": "code",
   "execution_count": 62,
   "id": "3fa614cf-4ffb-442e-90c4-0cf1665b8595",
   "metadata": {},
   "outputs": [
    {
     "data": {
      "image/png": "[encoded data removed]",
      "text/plain": [
       "<Figure size 432x288 with 1 Axes>"
      ]
     },
     "metadata": {
      "needs_background": "light"
     },
     "output_type": "display_data"
    }
   ],
   "source": [
    "metrics = history.history\n",
    "fig, ax = plt.subplots()\n",
    "plt.plot(history.epoch, metrics['loss'], metrics['val_loss'])\n",
    "plt.legend(['training_loss', 'validation_loss'])\n",
    "plt.title(\"Figure 4: Loss vs. Epochs for Base_Model\")\n",
    "ax.set_xlabel(\"\\n Number of Epochs\")\n",
    "ax.set_ylabel(\"Loss Amount (Decimal Number) \\n\")\n",
    "plt.show()"
   ]
  },
  {
   "cell_type": "code",
   "execution_count": 37,
   "id": "c5f1e87f-1c30-49e1-bf98-a7b4cebde5a5",
   "metadata": {},
   "outputs": [
    {
     "name": "stdout",
     "output_type": "stream",
     "text": [
      "{'loss': [0.6744900345802307, 0.6591656804084778, 0.6230974793434143, 0.5859631896018982, 0.5826969146728516, 0.5803496241569519, 0.5714460611343384, 0.49932652711868286, 0.4829603135585785, 0.4785415530204773, 0.47574856877326965, 0.4706476032733917, 0.46961867809295654, 0.46916434168815613, 0.46795853972435, 0.46427032351493835, 0.46430647373199463, 0.4621325731277466, 0.46084123849868774, 0.4601139724254608, 0.4591437876224518, 0.45809298753738403, 0.45540404319763184, 0.45485347509384155, 0.45253676176071167, 0.451353520154953, 0.4495547115802765, 0.4472200274467468, 0.45035722851753235, 0.4451916813850403, 0.44619083404541016, 0.4429994821548462, 0.4420982301235199, 0.44098687171936035, 0.44043058156967163, 0.43794938921928406, 0.436526358127594, 0.43942132592201233, 0.4373931586742401, 0.4375302791595459, 0.43575650453567505, 0.43352019786834717, 0.43528932332992554, 0.4310216009616852, 0.43149352073669434, 0.4323920011520386, 0.4337470233440399, 0.4317772686481476, 0.43078652024269104, 0.42782261967658997, 0.43140771985054016, 0.42793694138526917, 0.4274570643901825, 0.4294983148574829, 0.42721307277679443, 0.4262150824069977, 0.4251881539821625, 0.42314326763153076, 0.42474499344825745, 0.425025999546051], 'accuracy': [0.5522727370262146, 0.556560754776001, 0.6179332733154297, 0.6581943035125732, 0.6597834229469299, 0.6619407534599304, 0.6756037473678589, 0.7608309984207153, 0.7755504846572876, 0.7803444862365723, 0.7830256223678589, 0.7872514724731445, 0.7878906726837158, 0.7872159481048584, 0.786754310131073, 0.7898704409599304, 0.7900213599205017, 0.7924094796180725, 0.7936524152755737, 0.7936168909072876, 0.7938920855522156, 0.7942827343940735, 0.7965554594993591, 0.7956854104995728, 0.7987571358680725, 0.7990590333938599, 0.7985352277755737, 0.8015803098678589, 0.7995916604995728, 0.8014116287231445, 0.8018999099731445, 0.8036665916442871, 0.8042614459991455, 0.804740846157074, 0.8050782084465027, 0.8053978085517883, 0.8080167770385742, 0.8055309653282166, 0.8066140413284302, 0.8058860898017883, 0.8075728416442871, 0.8090998530387878, 0.807670533657074, 0.8102895021438599, 0.8103338479995728, 0.8095348477363586, 0.8079368472099304, 0.809703528881073, 0.8096325397491455, 0.8119851350784302, 0.8092862963676453, 0.8112837672233582, 0.8126776218414307, 0.8110973834991455, 0.8120561838150024, 0.8127486109733582, 0.8135653734207153, 0.8147550225257874, 0.8134855031967163, 0.814373254776001], 'val_loss': [0.6590930819511414, 0.6509218811988831, 0.5854561924934387, 0.5810518264770508, 0.5895826816558838, 0.5832528471946716, 0.5392520427703857, 0.49711519479751587, 0.4632497727870941, 0.4700888395309448, 0.46367332339286804, 0.4929572641849518, 0.46005088090896606, 0.46629369258880615, 0.4969579577445984, 0.46648040413856506, 0.4602385461330414, 0.46094614267349243, 0.4726870357990265, 0.4583883583545685, 0.4728325605392456, 0.4585631489753723, 0.45625069737434387, 0.4647442102432251, 0.4652949571609497, 0.45788276195526123, 0.4668682813644409, 0.45228806138038635, 0.47803637385368347, 0.46827763319015503, 0.4821403920650482, 0.49189651012420654, 0.4489010274410248, 0.4476359188556671, 0.446206271648407, 0.45221877098083496, 0.4635789096355438, 0.44812098145484924, 0.4446066617965698, 0.443561851978302, 0.525223970413208, 0.4561372697353363, 0.4951751232147217, 0.4582018256187439, 0.44228845834732056, 0.4793247580528259, 0.44577616453170776, 0.4646647274494171, 0.44634371995925903, 0.44847333431243896, 0.4419093430042267, 0.443673312664032, 0.44529762864112854, 0.49789705872535706, 0.46406370401382446, 0.4771170914173126, 0.46401944756507874, 0.4460623264312744, 0.4463024437427521, 0.44398507475852966], 'val_accuracy': [0.5622159242630005, 0.577983021736145, 0.6619318723678589, 0.6654829978942871, 0.6589488983154297, 0.6635653972625732, 0.7205966711044312, 0.756676197052002, 0.789488673210144, 0.7813210487365723, 0.7927557229995728, 0.7754971981048584, 0.7912642359733582, 0.7905540466308594, 0.7583807110786438, 0.7855114340782166, 0.7931818962097168, 0.7924716472625732, 0.7857955098152161, 0.7934659719467163, 0.7857244610786438, 0.7904829978942871, 0.7955256104469299, 0.785014271736145, 0.7872159481048584, 0.788494348526001, 0.781108021736145, 0.796519935131073, 0.7766335606575012, 0.7865767478942871, 0.7722301483154297, 0.7596591711044312, 0.7987926602363586, 0.7968040108680725, 0.7970170974731445, 0.7941051721572876, 0.7894176840782166, 0.7978693842887878, 0.8001421093940735, 0.7995738983154297, 0.7511364221572876, 0.7915483713150024, 0.7651278972625732, 0.7909801602363586, 0.7968750596046448, 0.7694602608680725, 0.7985795736312866, 0.7847301959991455, 0.795951783657074, 0.7931108474731445, 0.8003551959991455, 0.7968040108680725, 0.797301173210144, 0.7620739340782166, 0.7872869968414307, 0.7843040227890015, 0.7836648225784302, 0.7962358593940735, 0.7988637089729309, 0.7942472100257874], 'lr': [0.001, 0.001, 0.001, 0.001, 0.001, 0.001, 0.001, 0.001, 0.001, 0.001, 0.001, 0.001, 0.001, 0.001, 0.001, 0.001, 0.001, 0.001, 0.001, 0.001, 0.001, 0.001, 0.001, 0.001, 0.001, 0.001, 0.001, 0.001, 0.001, 0.001, 0.001, 0.001, 0.001, 0.001, 0.001, 0.001, 0.001, 0.001, 0.001, 0.001, 0.001, 0.001, 0.001, 0.001, 0.001, 0.001, 0.001, 0.001, 0.001, 0.001, 0.001, 0.001, 0.001, 0.001, 0.001, 0.001, 0.001, 0.001, 0.001, 0.001]}\n"
     ]
    }
   ],
   "source": [
    "print(history.history)"
   ]
  },
  {
   "cell_type": "code",
   "execution_count": 25,
   "id": "4f01387e-22be-4d32-bf3d-a91376396173",
   "metadata": {},
   "outputs": [
    {
     "name": "stderr",
     "output_type": "stream",
     "text": [
      "2022-01-13 01:50:29.039123: I tensorflow/core/kernels/data/shuffle_dataset_op.cc:380] Filling up shuffle buffer (this may take a while): 6260 of 14080\n",
      "2022-01-13 01:50:39.048180: I tensorflow/core/kernels/data/shuffle_dataset_op.cc:380] Filling up shuffle buffer (this may take a while): 12782 of 14080\n",
      "2022-01-13 01:50:41.117364: I tensorflow/core/kernels/data/shuffle_dataset_op.cc:405] Shuffle buffer filled.\n"
     ]
    },
    {
     "name": "stdout",
     "output_type": "stream",
     "text": [
      "440/440 - 25s - loss: 0.4392 - accuracy: 0.7960 - 25s/epoch - 57ms/step\n",
      "Test set accuracy: 80%\n"
     ]
    }
   ],
   "source": [
    "test_loss, test_acc = model.evaluate(test_ds, verbose=2)\n",
    "print(f'Test set accuracy: {test_acc:.0%}')"
   ]
  },
  {
   "cell_type": "code",
   "execution_count": 25,
   "id": "9c3f952a-50e2-4a30-817f-46e050ee3e89",
   "metadata": {},
   "outputs": [
    {
     "name": "stdout",
     "output_type": "stream",
     "text": [
      "Model: \"sequential\"\n",
      "_________________________________________________________________\n",
      " Layer (type)                Output Shape              Param #   \n",
      "=================================================================\n",
      " flatten (Flatten)           (None, 16000)             0         \n",
      "                                                                 \n",
      " dense (Dense)               (None, 128)               2048128   \n",
      "                                                                 \n",
      " dense_1 (Dense)             (None, 64)                8256      \n",
      "                                                                 \n",
      " dropout (Dropout)           (None, 64)                0         \n",
      "                                                                 \n",
      " dense_2 (Dense)             (None, 1)                 65        \n",
      "                                                                 \n",
      "=================================================================\n",
      "Total params: 2,056,449\n",
      "Trainable params: 2,056,449\n",
      "Non-trainable params: 0\n",
      "_________________________________________________________________\n"
     ]
    },
    {
     "name": "stderr",
     "output_type": "stream",
     "text": [
      "2022-01-14 05:06:17.260442: I tensorflow/core/grappler/optimizers/custom_graph_optimizer_registry.cc:112] Plugin optimizer for device_type GPU is enabled.\n"
     ]
    },
    {
     "name": "stdout",
     "output_type": "stream",
     "text": [
      "440/440 - 3s - loss: 0.4392 - accuracy: 0.7960 - 3s/epoch - 6ms/step\n",
      "Restored model, accuracy: 79.60%\n",
      "2.7925498485565186\n",
      "440/440 - 3s - loss: 0.4392 - accuracy: 0.7960 - 3s/epoch - 7ms/step\n",
      "Restored model, accuracy: 79.60%\n",
      "2.8779349327087402\n",
      "440/440 - 3s - loss: 0.4392 - accuracy: 0.7960 - 3s/epoch - 6ms/step\n",
      "Restored model, accuracy: 79.60%\n",
      "2.6175220012664795\n",
      "440/440 - 3s - loss: 0.4392 - accuracy: 0.7960 - 3s/epoch - 7ms/step\n",
      "Restored model, accuracy: 79.60%\n",
      "2.907067060470581\n",
      "440/440 - 3s - loss: 0.4392 - accuracy: 0.7960 - 3s/epoch - 6ms/step\n",
      "Restored model, accuracy: 79.60%\n",
      "2.6711509227752686\n",
      "440/440 - 3s - loss: 0.4392 - accuracy: 0.7960 - 3s/epoch - 6ms/step\n",
      "Restored model, accuracy: 79.60%\n",
      "2.782961845397949\n",
      "440/440 - 3s - loss: 0.4392 - accuracy: 0.7960 - 3s/epoch - 6ms/step\n",
      "Restored model, accuracy: 79.60%\n",
      "2.839040994644165\n",
      "440/440 - 3s - loss: 0.4392 - accuracy: 0.7960 - 3s/epoch - 6ms/step\n",
      "Restored model, accuracy: 79.60%\n",
      "2.6850390434265137\n",
      "440/440 - 3s - loss: 0.4392 - accuracy: 0.7960 - 3s/epoch - 6ms/step\n",
      "Restored model, accuracy: 79.60%\n",
      "2.692608594894409\n",
      "440/440 - 3s - loss: 0.4392 - accuracy: 0.7960 - 3s/epoch - 7ms/step\n",
      "Restored model, accuracy: 79.60%\n",
      "2.938823938369751\n",
      "440/440 - 3s - loss: 0.4392 - accuracy: 0.7960 - 3s/epoch - 6ms/step\n",
      "Restored model, accuracy: 79.60%\n",
      "2.757319927215576\n"
     ]
    }
   ],
   "source": [
    "import time\n",
    "\n",
    "save_path = \"/Users/joseph/Desktop/tensorflow-test/saved-models/modelvnaught\"\n",
    "\n",
    "new_model = tf.keras.models.load_model(save_path)\n",
    "\n",
    "new_model.summary()\n",
    "\n",
    "model = new_model\n",
    "\n",
    "for i in range(11):\n",
    "\n",
    "    t0 = time.time()\n",
    "    loss, acc = new_model.evaluate(test_ds, verbose=2)\n",
    "    t1 = time.time() \n",
    "    print('Restored model, accuracy: {:5.2f}%'.format(100 * acc))\n",
    "    print(t1-t0)"
   ]
  },
  {
   "cell_type": "code",
   "execution_count": 23,
   "id": "f86557ac-cd57-49e8-ad1d-65a639ebc252",
   "metadata": {},
   "outputs": [
    {
     "name": "stderr",
     "output_type": "stream",
     "text": [
      "2022-01-13 21:51:16.043270: I tensorflow/core/grappler/optimizers/custom_graph_optimizer_registry.cc:112] Plugin optimizer for device_type GPU is enabled.\n"
     ]
    }
   ],
   "source": [
    "y_pred = []  # store predicted labels\n",
    "y_true = []  # store true labels\n",
    "\n",
    "# iterate over the dataset\n",
    "for image_batch, label_batch in test_ds:   # use dataset.unbatch() with repeat\n",
    "   # append true labels\n",
    "   y_true.append(label_batch)\n",
    "   # compute predictions\n",
    "   preds = model.predict(image_batch)\n",
    "   # append predicted labels\n",
    "   y_pred.append(np.round(preds))\n",
    "\n",
    "# convert the true and predicted labels into tensors\n",
    "correct_labels = tf.concat([item for item in y_true], axis = 0)\n",
    "predicted_labels = tf.concat([item for item in y_pred], axis = 0)"
   ]
  },
  {
   "cell_type": "code",
   "execution_count": 24,
   "id": "ed9ce7e9-04cb-4ff4-a84b-b90b0f127838",
   "metadata": {},
   "outputs": [
    {
     "data": {
      "image/png": "[encoded data removed]",
      "text/plain": [
       "<Figure size 720x576 with 2 Axes>"
      ]
     },
     "metadata": {
      "needs_background": "light"
     },
     "output_type": "display_data"
    }
   ],
   "source": [
    "confusion_mtx = tf.math.confusion_matrix(correct_labels, predicted_labels)\n",
    "plt.figure(figsize=(10, 8))\n",
    "sns.heatmap(confusion_mtx,\n",
    "            xticklabels=commands,\n",
    "            yticklabels=commands,\n",
    "            annot=True, fmt='g')\n",
    "plt.xlabel('Prediction')\n",
    "plt.ylabel('Label')\n",
    "plt.show()"
   ]
  },
  {
   "cell_type": "code",
   "execution_count": 28,
   "id": "d71051cf-14ba-4b56-8405-3aae6d414972",
   "metadata": {},
   "outputs": [
    {
     "name": "stderr",
     "output_type": "stream",
     "text": [
      "2022-01-13 01:51:02.295602: W tensorflow/python/util/util.cc:368] Sets are not currently considered sequences, but this may change in the future, so consider avoiding using them.\n"
     ]
    },
    {
     "name": "stdout",
     "output_type": "stream",
     "text": [
      "INFO:tensorflow:Assets written to: /Users/joseph/Desktop/tensorflow-test/saved-models/modelvnaught/assets\n"
     ]
    }
   ],
   "source": [
    "# save_path = \"/Users/joseph/Desktop/tensorflow-test/saved-models/modelvnaught\"\n",
    "# model.save(save_path)"
   ]
  },
  {
   "cell_type": "code",
   "execution_count": 30,
   "id": "11794807-5a8d-4a2a-8516-0402e69f49ad",
   "metadata": {},
   "outputs": [
    {
     "data": {
      "image/png": "[encoded data removed]",
      "text/plain": [
       "<IPython.core.display.Image object>"
      ]
     },
     "execution_count": 30,
     "metadata": {},
     "output_type": "execute_result"
    }
   ],
   "source": [
    "# tf.keras.utils.plot_model(model, to_file=\"/Users/joseph/Desktop/tensorflow-test/architectures/modelvnaught_structure.png\", show_shapes=True)"
   ]
  },
  {
   "cell_type": "code",
   "execution_count": null,
   "id": "39998b7d-e7e5-40f4-9fbd-84884ff36925",
   "metadata": {},
   "outputs": [],
   "source": []
  }
 ],
 "metadata": {
  "kernelspec": {
   "display_name": "Python 3 (ipykernel)",
   "language": "python",
   "name": "python3"
  },
  "language_info": {
   "codemirror_mode": {
    "name": "ipython",
    "version": 3
   },
   "file_extension": ".py",
   "mimetype": "text/x-python",
   "name": "python",
   "nbconvert_exporter": "python",
   "pygments_lexer": "ipython3",
   "version": "3.9.7"
  }
 },
 "nbformat": 4,
 "nbformat_minor": 5
}
